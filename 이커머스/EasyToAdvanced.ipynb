{
 "cells": [
  {
   "cell_type": "code",
   "execution_count": 1,
   "metadata": {},
   "outputs": [],
   "source": [
    "import pandas as pd\n",
    "import numpy as np\n",
    "from numpy import percentile\n",
    "\n",
    "import matplotlib.pyplot as plt\n",
    "from pylab import rcParams\n",
    "\n",
    "rcParams['figure.figsize'] = 15, 5\n",
    "\n",
    "import seaborn as sns\n",
    "sns.set_style(\"whitegrid\")\n",
    "\n",
    "import warnings\n",
    "warnings.filterwarnings('ignore')\n",
    "\n",
    "import scipy.stats as stats\n",
    "from scipy.stats import shapiro\n",
    "\n",
    "from statsmodels.stats.multicomp import pairwise_tukeyhsd\n",
    "from statsmodels.graphics.factorplots import interaction_plot"
   ]
  },
  {
   "cell_type": "code",
   "execution_count": 2,
   "metadata": {},
   "outputs": [
    {
     "data": {
      "text/html": [
       "<div>\n",
       "<style scoped>\n",
       "    .dataframe tbody tr th:only-of-type {\n",
       "        vertical-align: middle;\n",
       "    }\n",
       "\n",
       "    .dataframe tbody tr th {\n",
       "        vertical-align: top;\n",
       "    }\n",
       "\n",
       "    .dataframe thead th {\n",
       "        text-align: right;\n",
       "    }\n",
       "</style>\n",
       "<table border=\"1\" class=\"dataframe\">\n",
       "  <thead>\n",
       "    <tr style=\"text-align: right;\">\n",
       "      <th></th>\n",
       "      <th>user_id</th>\n",
       "      <th>timestamp</th>\n",
       "      <th>group</th>\n",
       "      <th>landing_page</th>\n",
       "      <th>converted</th>\n",
       "    </tr>\n",
       "  </thead>\n",
       "  <tbody>\n",
       "    <tr>\n",
       "      <th>0</th>\n",
       "      <td>851104</td>\n",
       "      <td>11:48.6</td>\n",
       "      <td>control</td>\n",
       "      <td>old_page</td>\n",
       "      <td>0</td>\n",
       "    </tr>\n",
       "    <tr>\n",
       "      <th>1</th>\n",
       "      <td>804228</td>\n",
       "      <td>01:45.2</td>\n",
       "      <td>control</td>\n",
       "      <td>old_page</td>\n",
       "      <td>0</td>\n",
       "    </tr>\n",
       "    <tr>\n",
       "      <th>2</th>\n",
       "      <td>661590</td>\n",
       "      <td>55:06.2</td>\n",
       "      <td>treatment</td>\n",
       "      <td>new_page</td>\n",
       "      <td>0</td>\n",
       "    </tr>\n",
       "    <tr>\n",
       "      <th>3</th>\n",
       "      <td>853541</td>\n",
       "      <td>28:03.1</td>\n",
       "      <td>treatment</td>\n",
       "      <td>new_page</td>\n",
       "      <td>0</td>\n",
       "    </tr>\n",
       "    <tr>\n",
       "      <th>4</th>\n",
       "      <td>864975</td>\n",
       "      <td>52:26.2</td>\n",
       "      <td>control</td>\n",
       "      <td>old_page</td>\n",
       "      <td>1</td>\n",
       "    </tr>\n",
       "  </tbody>\n",
       "</table>\n",
       "</div>"
      ],
      "text/plain": [
       "   user_id timestamp      group landing_page  converted\n",
       "0   851104   11:48.6    control     old_page          0\n",
       "1   804228   01:45.2    control     old_page          0\n",
       "2   661590   55:06.2  treatment     new_page          0\n",
       "3   853541   28:03.1  treatment     new_page          0\n",
       "4   864975   52:26.2    control     old_page          1"
      ]
     },
     "execution_count": 2,
     "metadata": {},
     "output_type": "execute_result"
    }
   ],
   "source": [
    "df = pd.read_csv(\"/Users/narihwang/Desktop/A:B TEST/A/B Testing examples: from easy to advanced/ab_data.csv\")\n",
    "df.head()"
   ]
  },
  {
   "cell_type": "code",
   "execution_count": 3,
   "metadata": {},
   "outputs": [
    {
     "name": "stdout",
     "output_type": "stream",
     "text": [
      "<class 'pandas.core.frame.DataFrame'>\n",
      "RangeIndex: 294480 entries, 0 to 294479\n",
      "Data columns (total 5 columns):\n",
      " #   Column        Non-Null Count   Dtype \n",
      "---  ------        --------------   ----- \n",
      " 0   user_id       294480 non-null  int64 \n",
      " 1   timestamp     294480 non-null  object\n",
      " 2   group         294480 non-null  object\n",
      " 3   landing_page  294480 non-null  object\n",
      " 4   converted     294480 non-null  int64 \n",
      "dtypes: int64(2), object(3)\n",
      "memory usage: 11.2+ MB\n"
     ]
    }
   ],
   "source": [
    "df.info()"
   ]
  },
  {
   "cell_type": "code",
   "execution_count": 4,
   "metadata": {},
   "outputs": [
    {
     "name": "stdout",
     "output_type": "stream",
     "text": [
      "False\n"
     ]
    }
   ],
   "source": [
    "# 중복된 행이 있는 확인\n",
    "# 분석 왜곡, 모델 성능 저하, 효율성 문제를 줄이기 위해\n",
    "\n",
    "# 데이터 프레임의 각 행이 중복 되는지 확인\n",
    "dups = df.duplicated()\n",
    "# 하나라도 중복된 행이 있으면 True, 없으면 False\n",
    "print(dups.any())"
   ]
  },
  {
   "cell_type": "code",
   "execution_count": 5,
   "metadata": {},
   "outputs": [
    {
     "data": {
      "text/html": [
       "<div>\n",
       "<style scoped>\n",
       "    .dataframe tbody tr th:only-of-type {\n",
       "        vertical-align: middle;\n",
       "    }\n",
       "\n",
       "    .dataframe tbody tr th {\n",
       "        vertical-align: top;\n",
       "    }\n",
       "\n",
       "    .dataframe thead th {\n",
       "        text-align: right;\n",
       "    }\n",
       "</style>\n",
       "<table border=\"1\" class=\"dataframe\">\n",
       "  <thead>\n",
       "    <tr style=\"text-align: right;\">\n",
       "      <th></th>\n",
       "      <th>user_id</th>\n",
       "      <th>timestamp</th>\n",
       "      <th>group</th>\n",
       "      <th>landing_page</th>\n",
       "      <th>converted</th>\n",
       "    </tr>\n",
       "  </thead>\n",
       "  <tbody>\n",
       "    <tr>\n",
       "      <th>2656</th>\n",
       "      <td>698120</td>\n",
       "      <td>13:42.6</td>\n",
       "      <td>control</td>\n",
       "      <td>old_page</td>\n",
       "      <td>0</td>\n",
       "    </tr>\n",
       "    <tr>\n",
       "      <th>2893</th>\n",
       "      <td>773192</td>\n",
       "      <td>55:59.6</td>\n",
       "      <td>treatment</td>\n",
       "      <td>new_page</td>\n",
       "      <td>0</td>\n",
       "    </tr>\n",
       "    <tr>\n",
       "      <th>7500</th>\n",
       "      <td>899953</td>\n",
       "      <td>06:54.1</td>\n",
       "      <td>control</td>\n",
       "      <td>new_page</td>\n",
       "      <td>0</td>\n",
       "    </tr>\n",
       "    <tr>\n",
       "      <th>8036</th>\n",
       "      <td>790934</td>\n",
       "      <td>32:20.3</td>\n",
       "      <td>treatment</td>\n",
       "      <td>new_page</td>\n",
       "      <td>0</td>\n",
       "    </tr>\n",
       "    <tr>\n",
       "      <th>10218</th>\n",
       "      <td>633793</td>\n",
       "      <td>16:00.7</td>\n",
       "      <td>treatment</td>\n",
       "      <td>old_page</td>\n",
       "      <td>0</td>\n",
       "    </tr>\n",
       "    <tr>\n",
       "      <th>...</th>\n",
       "      <td>...</td>\n",
       "      <td>...</td>\n",
       "      <td>...</td>\n",
       "      <td>...</td>\n",
       "      <td>...</td>\n",
       "    </tr>\n",
       "    <tr>\n",
       "      <th>294309</th>\n",
       "      <td>787083</td>\n",
       "      <td>15:21.0</td>\n",
       "      <td>control</td>\n",
       "      <td>old_page</td>\n",
       "      <td>0</td>\n",
       "    </tr>\n",
       "    <tr>\n",
       "      <th>294328</th>\n",
       "      <td>641570</td>\n",
       "      <td>59:27.7</td>\n",
       "      <td>control</td>\n",
       "      <td>old_page</td>\n",
       "      <td>0</td>\n",
       "    </tr>\n",
       "    <tr>\n",
       "      <th>294331</th>\n",
       "      <td>689637</td>\n",
       "      <td>34:28.3</td>\n",
       "      <td>control</td>\n",
       "      <td>new_page</td>\n",
       "      <td>0</td>\n",
       "    </tr>\n",
       "    <tr>\n",
       "      <th>294355</th>\n",
       "      <td>744456</td>\n",
       "      <td>32:07.1</td>\n",
       "      <td>treatment</td>\n",
       "      <td>new_page</td>\n",
       "      <td>0</td>\n",
       "    </tr>\n",
       "    <tr>\n",
       "      <th>294478</th>\n",
       "      <td>759899</td>\n",
       "      <td>20:29.0</td>\n",
       "      <td>treatment</td>\n",
       "      <td>new_page</td>\n",
       "      <td>0</td>\n",
       "    </tr>\n",
       "  </tbody>\n",
       "</table>\n",
       "<p>3895 rows × 5 columns</p>\n",
       "</div>"
      ],
      "text/plain": [
       "        user_id timestamp      group landing_page  converted\n",
       "2656     698120   13:42.6    control     old_page          0\n",
       "2893     773192   55:59.6  treatment     new_page          0\n",
       "7500     899953   06:54.1    control     new_page          0\n",
       "8036     790934   32:20.3  treatment     new_page          0\n",
       "10218    633793   16:00.7  treatment     old_page          0\n",
       "...         ...       ...        ...          ...        ...\n",
       "294309   787083   15:21.0    control     old_page          0\n",
       "294328   641570   59:27.7    control     old_page          0\n",
       "294331   689637   34:28.3    control     new_page          0\n",
       "294355   744456   32:07.1  treatment     new_page          0\n",
       "294478   759899   20:29.0  treatment     new_page          0\n",
       "\n",
       "[3895 rows x 5 columns]"
      ]
     },
     "execution_count": 5,
     "metadata": {},
     "output_type": "execute_result"
    }
   ],
   "source": [
    "# user_id 중복 확인 -> 중복된 user_id를 가진 행만 출력\n",
    "# user_id 컬럼에서 중복된 값만 필터링 -> 중복된 행만 선택\n",
    "df[df[\"user_id\"].duplicated()]"
   ]
  },
  {
   "cell_type": "code",
   "execution_count": 6,
   "metadata": {},
   "outputs": [
    {
     "name": "stdout",
     "output_type": "stream",
     "text": [
      "The number of mismatched rows : 3893 rows\n",
      "Percent of mismatched rows : 1.32%\n"
     ]
    }
   ],
   "source": [
    "# A/B 테스트를 하기 위한 그룹 나누기\n",
    "# 실험 그룹 langding_page가 old_page인 경우와\n",
    "# 대조군은 landing_page가 new_page인 경우\n",
    "df_mismatch = df[(df[\"group\"]==\"treatment\")&(df[\"landing_page\"]==\"old_page\")\n",
    "                |(df[\"group\"]==\"control\")&(df[\"landing_page\"]==\"new_page\")]\n",
    "\n",
    "# 중복된 값이나 NaN없이 필터링된 행의 수 \n",
    "n_mismatch = df_mismatch.shape[0]\n",
    "\n",
    "# 불일치하는 행의 수 출력\n",
    "print(f\"The number of mismatched rows : {n_mismatch} rows\")\n",
    "\n",
    "# 전체 데이터에서 불일치하는 행의 백분율 계산\n",
    "print(\"Percent of mismatched rows : %.2f%%\" % (n_mismatch/df.shape[0]*100))"
   ]
  },
  {
   "cell_type": "markdown",
   "metadata": {},
   "source": [
    "mismatch 된 데이터 : 예상하거나 의도한 조건에 맞지 않는 데이터를 의미\n",
    "특히, A/B 테스트에서는 각 그룹에 대해 특정 조건이나 설정이 지정된다.\n",
    "만약 이러한 조건이 일치하지 않는 데이터를 발견했을 때 \"mismatch data\"라고 부른다.\n",
    "\n",
    "두 개의 그룹 조건\n",
    "1. 실험 그룹(treatment group)은 old_page를 봐야한다\n",
    "2. 대조군(control group)은 new_page를 봐야한다\n",
    "\n",
    "The number of mismatched rows : 3893 rows\n",
    "-> 실험그룹의 조건과 대조군의 조건이 일치 하지 않는 데이터 행이 3893개 \n",
    "-> user_id가 3895번 중복되어 있으며, 동시에 로딩한 것\n",
    "\n",
    "Percent of mismatched rows : 1.32%\n"
   ]
  },
  {
   "cell_type": "code",
   "execution_count": 7,
   "metadata": {},
   "outputs": [],
   "source": [
    "# 실험 그룹 : new_page\n",
    "# 대조 그룹 : old_page\n",
    "# df2 저장\n",
    "\n",
    "df2 = df[(df[\"group\"]==\"treatment\")&(df[\"landing_page\"]==\"new_page\")\n",
    "                |(df[\"group\"]==\"control\")&(df[\"landing_page\"]==\"old_page\")]"
   ]
  },
  {
   "cell_type": "code",
   "execution_count": 8,
   "metadata": {},
   "outputs": [
    {
     "data": {
      "text/html": [
       "<div>\n",
       "<style scoped>\n",
       "    .dataframe tbody tr th:only-of-type {\n",
       "        vertical-align: middle;\n",
       "    }\n",
       "\n",
       "    .dataframe tbody tr th {\n",
       "        vertical-align: top;\n",
       "    }\n",
       "\n",
       "    .dataframe thead th {\n",
       "        text-align: right;\n",
       "    }\n",
       "</style>\n",
       "<table border=\"1\" class=\"dataframe\">\n",
       "  <thead>\n",
       "    <tr style=\"text-align: right;\">\n",
       "      <th></th>\n",
       "      <th>user_id</th>\n",
       "      <th>timestamp</th>\n",
       "      <th>group</th>\n",
       "      <th>landing_page</th>\n",
       "      <th>converted</th>\n",
       "    </tr>\n",
       "  </thead>\n",
       "  <tbody>\n",
       "    <tr>\n",
       "      <th>2893</th>\n",
       "      <td>773192</td>\n",
       "      <td>55:59.6</td>\n",
       "      <td>treatment</td>\n",
       "      <td>new_page</td>\n",
       "      <td>0</td>\n",
       "    </tr>\n",
       "    <tr>\n",
       "      <th>294478</th>\n",
       "      <td>759899</td>\n",
       "      <td>20:29.0</td>\n",
       "      <td>treatment</td>\n",
       "      <td>new_page</td>\n",
       "      <td>0</td>\n",
       "    </tr>\n",
       "  </tbody>\n",
       "</table>\n",
       "</div>"
      ],
      "text/plain": [
       "        user_id timestamp      group landing_page  converted\n",
       "2893     773192   55:59.6  treatment     new_page          0\n",
       "294478   759899   20:29.0  treatment     new_page          0"
      ]
     },
     "execution_count": 8,
     "metadata": {},
     "output_type": "execute_result"
    }
   ],
   "source": [
    "# df2 에서 중복된 user_id 찾기\n",
    "df2[df2[\"user_id\"].duplicated()]"
   ]
  },
  {
   "cell_type": "code",
   "execution_count": 9,
   "metadata": {},
   "outputs": [
    {
     "data": {
      "text/html": [
       "<div>\n",
       "<style scoped>\n",
       "    .dataframe tbody tr th:only-of-type {\n",
       "        vertical-align: middle;\n",
       "    }\n",
       "\n",
       "    .dataframe tbody tr th {\n",
       "        vertical-align: top;\n",
       "    }\n",
       "\n",
       "    .dataframe thead th {\n",
       "        text-align: right;\n",
       "    }\n",
       "</style>\n",
       "<table border=\"1\" class=\"dataframe\">\n",
       "  <thead>\n",
       "    <tr style=\"text-align: right;\">\n",
       "      <th></th>\n",
       "      <th>user_id</th>\n",
       "      <th>timestamp</th>\n",
       "      <th>group</th>\n",
       "      <th>landing_page</th>\n",
       "      <th>converted</th>\n",
       "    </tr>\n",
       "  </thead>\n",
       "  <tbody>\n",
       "    <tr>\n",
       "      <th>1899</th>\n",
       "      <td>773192</td>\n",
       "      <td>37:58.8</td>\n",
       "      <td>treatment</td>\n",
       "      <td>new_page</td>\n",
       "      <td>0</td>\n",
       "    </tr>\n",
       "    <tr>\n",
       "      <th>2893</th>\n",
       "      <td>773192</td>\n",
       "      <td>55:59.6</td>\n",
       "      <td>treatment</td>\n",
       "      <td>new_page</td>\n",
       "      <td>0</td>\n",
       "    </tr>\n",
       "  </tbody>\n",
       "</table>\n",
       "</div>"
      ],
      "text/plain": [
       "      user_id timestamp      group landing_page  converted\n",
       "1899   773192   37:58.8  treatment     new_page          0\n",
       "2893   773192   55:59.6  treatment     new_page          0"
      ]
     },
     "execution_count": 9,
     "metadata": {},
     "output_type": "execute_result"
    }
   ],
   "source": [
    "df2[df2[\"user_id\"]==773192]\n"
   ]
  },
  {
   "cell_type": "code",
   "execution_count": 10,
   "metadata": {},
   "outputs": [],
   "source": [
    "# df2에서 user_id가 중복되는 행을 제거\n",
    "# subset = \"user_id\" : 중복을 판단할 기준 열로 user_id로 지정\n",
    "# inplace = treu : df2에 직접 변경사항 적용\n",
    "\n",
    "df2.drop_duplicates(subset=\"user_id\",inplace=True) \n"
   ]
  },
  {
   "cell_type": "code",
   "execution_count": 11,
   "metadata": {},
   "outputs": [
    {
     "data": {
      "text/plain": [
       "(290585, 5)"
      ]
     },
     "execution_count": 11,
     "metadata": {},
     "output_type": "execute_result"
    }
   ],
   "source": [
    "# 중복 제거후 데이터 프레임의 크기 (290587개의 행, 5개의 열)\n",
    "df2.shape\n"
   ]
  },
  {
   "cell_type": "code",
   "execution_count": 12,
   "metadata": {},
   "outputs": [
    {
     "data": {
      "text/html": [
       "<div>\n",
       "<style scoped>\n",
       "    .dataframe tbody tr th:only-of-type {\n",
       "        vertical-align: middle;\n",
       "    }\n",
       "\n",
       "    .dataframe tbody tr th {\n",
       "        vertical-align: top;\n",
       "    }\n",
       "\n",
       "    .dataframe thead th {\n",
       "        text-align: right;\n",
       "    }\n",
       "</style>\n",
       "<table border=\"1\" class=\"dataframe\">\n",
       "  <thead>\n",
       "    <tr style=\"text-align: right;\">\n",
       "      <th></th>\n",
       "      <th>Control_COUNT</th>\n",
       "      <th>Treatment_COUNT</th>\n",
       "      <th>Control_RATIO</th>\n",
       "      <th>Trement_RATIO</th>\n",
       "    </tr>\n",
       "    <tr>\n",
       "      <th>converted</th>\n",
       "      <th></th>\n",
       "      <th></th>\n",
       "      <th></th>\n",
       "      <th></th>\n",
       "    </tr>\n",
       "  </thead>\n",
       "  <tbody>\n",
       "    <tr>\n",
       "      <th>0</th>\n",
       "      <td>127785</td>\n",
       "      <td>128047</td>\n",
       "      <td>0.879614</td>\n",
       "      <td>0.881193</td>\n",
       "    </tr>\n",
       "    <tr>\n",
       "      <th>1</th>\n",
       "      <td>17489</td>\n",
       "      <td>17264</td>\n",
       "      <td>0.120386</td>\n",
       "      <td>0.118807</td>\n",
       "    </tr>\n",
       "  </tbody>\n",
       "</table>\n",
       "</div>"
      ],
      "text/plain": [
       "           Control_COUNT  Treatment_COUNT  Control_RATIO  Trement_RATIO\n",
       "converted                                                              \n",
       "0                 127785           128047       0.879614       0.881193\n",
       "1                  17489            17264       0.120386       0.118807"
      ]
     },
     "execution_count": 12,
     "metadata": {},
     "output_type": "execute_result"
    }
   ],
   "source": [
    "df_counts = pd.DataFrame({\"Control_COUNT\": df2[df2.group==\"control\"].converted.value_counts(),\n",
    "              \"Treatment_COUNT\": df2[df2.group==\"treatment\"].converted.value_counts(),\n",
    "              \"Control_RATIO\": df2[df2.group==\"control\"].converted.value_counts()/ len(df2[df2.group==\"control\"]),\n",
    "              \"Trement_RATIO\": df2[df2.group==\"treatment\"].converted.value_counts() / len(df2[df2.group==\"treatment\"])})\n",
    "df_counts"
   ]
  },
  {
   "cell_type": "markdown",
   "metadata": {},
   "source": [
    "df_counts 새로운 데이터프레임 생성\n",
    "- Control_COUNT\n",
    "    - df2에서 실험 그룹 (group == \"control\")만 선택\n",
    "    - 실험 그룹 데이터의 converted 열에서 값들의 빈도수 계산\n",
    "    - 대조군에서 각 conveted 값의 발생 빈도를 계산한 것\n",
    "\n",
    "- Treatment_COUNT \n",
    "    - df2에서 대조군 (group == \"treatment\")만 선택\n",
    "    - 대조군 그룹 데이터의 converted 열에서 값들의 빈도수 계산\n",
    "    - treatment 그룹에서 각 converted 값의 발생 빈도를 계산한 것\n",
    "\n",
    "- Control_Ratio\n",
    "    - 대조군의 각 converted 값의 빈도수를 해당 그룹의 총 길이로 나누어 비율 계산\n",
    "    - 즉, 대조군에서 각 converted 값이 나타날 확률을 계싼\n",
    "\n",
    "- Treatment_Ratio\n",
    "    - 실헙그룹의 각 converted 값의 빈도수를 해상 그룹의 총 길이로 나누어 비율 계산\n",
    "    - 즉, 실험그룹에서 각 converted 값이 나타날 확률\n",
    "\n",
    "\n",
    "변환율을 비교하는 이유\n",
    "1. A/B TEST 결과\n",
    "    - 두 그룹의 변환율을 비교하여 실험 결과의 차이를 평가\n",
    "    - 빈도수와 비율을 계산함으로써 실험이 성공적으로 목표를 달성했는지 여부 파악\n",
    "\n",
    "2. 비율을 통한 통계적 유의성\n",
    "    - 두 그룹 간의 차이를 검정하는 통계적 검정을 진행할 수 있다.\n",
    "    \n"
   ]
  },
  {
   "cell_type": "code",
   "execution_count": 13,
   "metadata": {},
   "outputs": [
    {
     "data": {
      "image/png": "[encoded data removed]",
      "text/plain": [
       "<Figure size 1500x500 with 3 Axes>"
      ]
     },
     "metadata": {},
     "output_type": "display_data"
    }
   ],
   "source": [
    "fig, axes = plt.subplots(1,3)\n",
    "\n",
    "# 전체 데이터에서 전환 여부의 분포(0과 1의 빈도 차이)를 확인\n",
    "sns.histplot(x=\"converted\", data = df2, ax = axes[0])       # x축 : 전환율(0과 1), y축 : 해당 값 빈도\n",
    "axes[0].set_title(\"Distribution of tatal data\")\n",
    "\n",
    "# 대조군과 실험군 각각에서 전환 성공 / 실패 빈도 비교\n",
    "sns.countplot(x = 'converted', data = df2, hue = \"group\", ax = axes[1])     # x축 : 전환율 (0과 1), y축 : 각 값의 빈도\n",
    "axes[1].set(title = \"# conversion for each version\", ylabel = \"count\")\n",
    "\n",
    "# 대조군과 실험군의 평균 전환율 차이를 비교\n",
    "sns.pointplot(x = 'group', y = 'converted', data = df2, ax = axes[2])       # x축 : 그룹, y축 : 그룹별 평균 전환율\n",
    "axes[2].set_ylim([0.115, 0.125])\n",
    "axes[2].set(title = 'converted rate for each version', ylabel = \"converted rate\")\n",
    "\n",
    "plt.show()"
   ]
  },
  {
   "cell_type": "markdown",
   "metadata": {},
   "source": [
    "# 그래프 해석\n",
    "## 1.\n",
    "- 대부분의 데이터가 converted = 0에 속하며, converted = 1의 데이터는 상대적으로 적습니다. -> 전환율이 낮다\n",
    "\n",
    "## 2.\n",
    "- 두 그룹의 데이터를 비교한다.\n",
    "- 두 그룹 모두 converted = 0이 월등히 많습니다.\n",
    "- converted = 1의 경우, 두 그룹 간 차이는 시각적의로 거의 보이지 않습니다. 전환율의 차이가 미미하다\n",
    "\n",
    "## 3.\n",
    "- 두 그룹의 전환율을 비교한 그래프\n",
    "- control그룹이 treatment보다 약간 더 높은 전환율을 보인다\n",
    "- 오차 막대가 겹치고 있어, 두 그룹 간 전환율 차이가 통계적으로 유의미하지 않아 보인다."
   ]
  },
  {
   "cell_type": "markdown",
   "metadata": {},
   "source": [
    "# 새로운 제안\n",
    "- 이산형 변수(converted)와 대규모 샘플 데이터(데이터프레임의 모든 데이터)를 기반으로 카이제곱 검정이 적합합니다.\n",
    "    - 카이제곱 검정이란?\n",
    "        - 범주형 데이터의 관측 빈도와 기대빈도를 비교한다\n",
    "        - converted는 범주형 변수(0과 1의 값), 두 그룹(control, treatment)간 분포 차이를 평가해야 하기에 검정 제곱이 적합\n",
    "\n",
    "- 새로운 버전(treatment)이 기존 버전보다 전환율이 낮아 보이지만, 두 그룹 간 차이는 유의미하지 않을 가능성이 있습니다.\n",
    "- 가설 검정을 통해 차이가 통계적으로 유의미한지 확인해야한다"
   ]
  },
  {
   "cell_type": "code",
   "execution_count": 14,
   "metadata": {},
   "outputs": [
    {
     "data": {
      "text/plain": [
       "array([[127785, 128047],\n",
       "       [ 17489,  17264]])"
      ]
     },
     "execution_count": 14,
     "metadata": {},
     "output_type": "execute_result"
    }
   ],
   "source": [
    "table = df_counts.iloc[:,0:2].to_numpy()\n",
    "table"
   ]
  },
  {
   "cell_type": "code",
   "execution_count": 15,
   "metadata": {},
   "outputs": [
    {
     "name": "stdout",
     "output_type": "stream",
     "text": [
      "fredoom of degree=1\n",
      "[[127899.7125385 127932.2874615]\n",
      " [ 17374.2874615  17378.7125385]]\n",
      "probability=0.950, critical=3.841, stat=1.705\n",
      "Independent (fail to reject H0)\n",
      "significance=0.050, p=0.192\n",
      "Independent (fail to reject H0)\n"
     ]
    }
   ],
   "source": [
    "stat, p, dof, expected = stats.chi2_contingency(table)\n",
    "print(\"fredoom of degree=%d\"% dof)\n",
    "print(expected)\n",
    "# interpret test-statistic\n",
    "prob = 0.95\n",
    "critical = stats.chi2.ppf(prob, dof)\n",
    "print('probability=%.3f, critical=%.3f, stat=%.3f' % (prob, critical, stat))\n",
    "if abs(stat) >= critical:\n",
    "    print('Dependent (reject H0)')\n",
    "else:\n",
    "    print('Independent (fail to reject H0)')\n",
    "# interpret p-value\n",
    "alpha = 1-prob\n",
    "print('significance=%.3f, p=%.3f' % (alpha, p))\n",
    "if p <= alpha:\n",
    "    print('Dependent (reject H0)')\n",
    "else:\n",
    "    print('Independent (fail to reject H0)')\n"
   ]
  },
  {
   "cell_type": "markdown",
   "metadata": {},
   "source": [
    "# 코드 해석\n",
    "stat, p, dof, expected = stats.chi2_contingency(table)\n",
    "-> stats.chi2_contingency(table) 함수는 2차원 배열에 대해 카이제곱 독립성 검정을 수행\n",
    "-> stat : 카이제곱 검정 통계량\n",
    "-> p : p-value\n",
    "-> dof : 자유도\n",
    "-> expected : 기대 빈도 배열\n",
    "\n",
    "prob = 0.95\n",
    "-> 신뢰구간 설정 (95%)\n",
    "critical = stats.chi2.ppf(prob, dof)\n",
    "-> 자유도에 해당하는 카이제곱 분포의 95번째 백분위수를 계산\n",
    "\n",
    "if abs(stat) >= critical:\n",
    "    print('Dependent (reject H0)')\n",
    "else:\n",
    "    print('Independent (fail to reject H0)')\n",
    "-> stat(검정 통계량)의 절대값이 critical(임계값) 보다 크거나 같으면, 귀무가설을 기각하고 두 변수 간에 의존성이 있다고 결론\n",
    "-> 그렇지 않다면, 두 변수는 독립적이다(상관관계 없음)\n",
    "\n",
    "\n",
    "# 출력값 해석\n",
    "freedom of degree = 1 자유도가 1이다.\n",
    "카이제곱 검정에서 자유도 = (행의 수 -1) * (열의 수 -1)\n",
    "\n",
    "probability=0.950, critical=3.841, stat=1.705\n",
    "신뢰수준 : 95%, 임계값 : 3.841, 검정 통계량 : 1.705\n",
    "1.705 < 3.841이므로 임계값 기준에서는 귀무가설(H0)을 기각할 수 없음을 의미합니다.\n",
    "\n",
    "Independent (fail to reject H0)\n",
    "검정 통계량(1.705)이 임계값(3.841)보다 작으므로, 두 변수 사이에 통계적으로 유의한 연관성이 없다고 해석됩니다.\n",
    "\n",
    "significance=0.050, p=0.192\n",
    "유의수준 α는 1-0.95 = 0.05로 설정되었습니다\n",
    "p-value는 0.192로 계산되었는데, 이는 관측된 통계량이 귀무가설 하에서 나타날 확률이 약 19.2%임을 의미합니다."
   ]
  },
  {
   "cell_type": "code",
   "execution_count": 18,
   "metadata": {},
   "outputs": [
    {
     "name": "stdout",
     "output_type": "stream",
     "text": [
      "odd ratio is : 0.9851149705891606\n",
      "p_value is : 0.19047607131914918\n",
      "Independent (fail to reject H0)\n"
     ]
    }
   ],
   "source": [
    "odd_ratio, p_value = stats.fisher_exact(table, alternative=\"two-sided\")\n",
    "print(\"odd ratio is : \" + str(odd_ratio))\n",
    "print(\"p_value is : \" + str(p_value))\n",
    "if p_value <= alpha:\n",
    "    print('Dependent (reject H0)')\n",
    "else:\n",
    "    print('Independent (fail to reject H0)')"
   ]
  },
  {
   "cell_type": "code",
   "execution_count": 19,
   "metadata": {},
   "outputs": [
    {
     "data": {
      "text/html": [
       "<div>\n",
       "<style scoped>\n",
       "    .dataframe tbody tr th:only-of-type {\n",
       "        vertical-align: middle;\n",
       "    }\n",
       "\n",
       "    .dataframe tbody tr th {\n",
       "        vertical-align: top;\n",
       "    }\n",
       "\n",
       "    .dataframe thead th {\n",
       "        text-align: right;\n",
       "    }\n",
       "</style>\n",
       "<table border=\"1\" class=\"dataframe\">\n",
       "  <thead>\n",
       "    <tr style=\"text-align: right;\">\n",
       "      <th></th>\n",
       "      <th>Test</th>\n",
       "      <th>P_value</th>\n",
       "      <th>AB Hypothesis</th>\n",
       "      <th>Comment</th>\n",
       "    </tr>\n",
       "  </thead>\n",
       "  <tbody>\n",
       "    <tr>\n",
       "      <th>0</th>\n",
       "      <td>Chi Square Test</td>\n",
       "      <td>0.19159</td>\n",
       "      <td>Fail to Reject H0</td>\n",
       "      <td>A/B groups are similar!</td>\n",
       "    </tr>\n",
       "  </tbody>\n",
       "</table>\n",
       "</div>"
      ],
      "text/plain": [
       "              Test  P_value      AB Hypothesis                  Comment\n",
       "0  Chi Square Test  0.19159  Fail to Reject H0  A/B groups are similar!"
      ]
     },
     "execution_count": 19,
     "metadata": {},
     "output_type": "execute_result"
    }
   ],
   "source": [
    "def AB_testing(dataframe, group, metric):\n",
    "    \n",
    "    # Split groups\n",
    "    group_c = dataframe[dataframe[group] == \"control\"][metric]\n",
    "    group_t = dataframe[dataframe[group] == \"treatment\"][metric]\n",
    "    \n",
    "    size = dataframe.shape[0]  \n",
    "    table = pd.DataFrame({\"C_COUNT\": group_c.value_counts(),\n",
    "              \"T_COUNT\": group_t.value_counts()}).to_numpy()\n",
    "    \n",
    "    if size < 1000:\n",
    "        # Fisher Exact Test\n",
    "        odd_ratio, p_value = stats.fisher_exact(table, alternative=\"two-sided\")\n",
    "    else:\n",
    "        # Pearson Chi Square Test\n",
    "        stat, p_value, dof, expected = stats.chi2_contingency(table)\n",
    "    # Result\n",
    "    temp = pd.DataFrame({\n",
    "        \"Test\":[size<1000],\n",
    "        \"P_value\":[p_value],\n",
    "        \"AB Hypothesis\":[p_value < 0.05], \n",
    "    })\n",
    "    temp[\"Test\"] = np.where(temp[\"Test\"]==True, \"Fisher Exact Test\", \"Chi Square Test\")\n",
    "    temp[\"AB Hypothesis\"] = np.where(temp[\"AB Hypothesis\"] == False, \"Fail to Reject H0\", \"Reject H0\")\n",
    "    temp[\"Comment\"] = np.where(temp[\"AB Hypothesis\"] == \"Fail to Reject H0\", \"A/B groups are similar!\", \"A/B groups are not similar!\")\n",
    "    \n",
    "    return temp\n",
    "   \n",
    "# Apply A/B Testing\n",
    "AB_testing(dataframe=df2, group = \"group\", metric = \"converted\")"
   ]
  },
  {
   "cell_type": "markdown",
   "metadata": {},
   "source": [
    "AB_testing 함수를 생성한다.\n",
    "dataframe, group, metric 세 개의 인자를 받는다. (dataframe : 분석에 사용할 데이터 프레임, group : 그룹을 구분하는 컬럼, metric : 비교할 지표컬럼(converted))\n",
    "\n",
    "group_c: \"control\" 그룹의 metric 값들\n",
    "group_t: \"treatment\" 그룹의 metric 값들\n",
    "\n",
    "table = pd.DataFrame({\"C_COUNT\": group_c.value_counts(),\n",
    "              \"T_COUNT\": group_t.value_counts()}).to_numpy()\n",
    "- value_counts()로 metric의 값들을 count\n",
    "- 각 그룹의 metric 값들을 count하여 2x2 배열로 만든다\n",
    "\n",
    "if size < 1000:\n",
    "    # Fisher Exact Test\n",
    "    odd_ratio, p_value = stats.fisher_exact(table, alternative=\"two-sided\")\n",
    "else:\n",
    "    # Pearson Chi Square Test\n",
    "    stat, p_value, dof, expected = stats.chi2_contingency(table)\n",
    "- 샘플크기가 1000개 미만일 경우 \n",
    "    - stats.fisher.exact 정확 검정을 사용 (작은 표본이나 셀의 기대 빈도가 낮은 경우 적합)\n",
    "- 샘플크기가 1000개 이상인 경우\n",
    "    - stats.chi2_contingency 피어슨의 카이제곱 검정을 사용 (대규모 표본에 대해 범주형 데이터 간의 독립석을 평가할 때 일반적으로 사용)\n",
    "\n"
   ]
  }
 ],
 "metadata": {
  "kernelspec": {
   "display_name": "Python 3",
   "language": "python",
   "name": "python3"
  },
  "language_info": {
   "codemirror_mode": {
    "name": "ipython",
    "version": 3
   },
   "file_extension": ".py",
   "mimetype": "text/x-python",
   "name": "python",
   "nbconvert_exporter": "python",
   "pygments_lexer": "ipython3",
   "version": "3.9.6"
  }
 },
 "nbformat": 4,
 "nbformat_minor": 2
}
